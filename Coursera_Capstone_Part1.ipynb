{
 "cells": [
  {
   "cell_type": "markdown",
   "metadata": {},
   "source": [
    "# The Battle of Neighbourhoods"
   ]
  },
  {
   "cell_type": "markdown",
   "metadata": {},
   "source": [
    "# 1. Introduction/Business Problem:\n",
    "\n",
    "#### -My cousin got a job offer from a great company with mindblowing employees benefits and perks but in other city or other borough of his/her current city. \n",
    "#### -He took the job offer because it was a once on a lifetime opportunity and now he and his family need to change to a whole new location. From New York to Toronto.\n",
    "#### -They are urgently in need of someplace exactly or strictly similiar to their last location because they have been living there for many years so they love their current neighbourhood venue settings and amenities.\n",
    "#### -Working class people are always moving from one place to another either to find better jobs or to change their lifestyles a little bit. Eitherway they always get to the same general obstacles for anyone trying to please every family member while scouting for new places to live. The essential most important ones are like: the company location or site, schools nearby, health centers, grocery shops, entertainment, recreational parks, restaurants, coffe shops, etc.. \n",
    "\n",
    "## How are they going to find another city, borough or neighbourhoods with all those conditions for everyone to be happy as they are right now??? \n",
    "\n",
    "## We'll find out what makes borough-neighbourhoods similar to define a new location. Moving somewhere can be within the city or from one city to another. If moving within the same city then we'll find neighbourhoods in that borough which are very similar to their last location. If moving it's being done from one city to another city then my task would be finding the similar neighbourhoods."
   ]
  },
  {
   "cell_type": "markdown",
   "metadata": {
    "tags": [
     "site"
    ]
   },
   "source": [
    "# 2. Data\n",
    "\n",
    "## 2.1 Gathering New York Data\n",
    "\n",
    "#### My first city would be New York city. NY data is in a json format and it's easily transformed into pandas dataframe. We'll be using the borough and neighbourhood data of two cities. We´ll only keep the important ones like borough, neighbourhood, latitude and longitude. For more information of this data you can visit this site: https://geo.nyu.edu/catalog/nyu_2451_34572 "
   ]
  },
  {
   "cell_type": "markdown",
   "metadata": {},
   "source": [
    "## 2.1 Gathering Toronto Data\n",
    "\n",
    "#### Second city would be Toronto city. It can´t be directly downloaded. Postal Code, borough and neighbourhood can be scrapped from wikipedia page: https://en.wikipedia.org/wiki/List_of_postal_codes_of_Canada:_M. Latitude and longitude information can be downloaded from the 'geocode.csv'. Used csv file download the csv and read it into pd. There are some rows where “Not assigned” is written. Drop the rows where borough is “Not assigned” (only). If Neighbouthood is 'Not assigned' but Borough is assigned then make corresponding Borough as Neighbourhood. Merge the rows if Postal Code and Borough of two or more rows same and merged neighbourhood will be separated by comma “,”. Finally this data and Toronto data can be merged together. Once both data are ready we’ll use Foursquare API to get the venues near each neighbourhood."
   ]
  },
  {
   "cell_type": "code",
   "execution_count": null,
   "metadata": {},
   "outputs": [],
   "source": []
  }
 ],
 "metadata": {
  "kernelspec": {
   "display_name": "Python",
   "language": "python",
   "name": "conda-env-python-py"
  },
  "language_info": {
   "codemirror_mode": {
    "name": "ipython",
    "version": 3
   },
   "file_extension": ".py",
   "mimetype": "text/x-python",
   "name": "python",
   "nbconvert_exporter": "python",
   "pygments_lexer": "ipython3",
   "version": "3.6.11"
  }
 },
 "nbformat": 4,
 "nbformat_minor": 4
}
